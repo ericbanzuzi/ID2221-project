{
 "cells": [
  {
   "cell_type": "markdown",
   "id": "00166693",
   "metadata": {},
   "source": [
    "#### In this Video We will Cover\n",
    "- PySpark Dataframe \n",
    "- Reading The Dataset\n",
    "- Checking the Datatypes of the Column(Schema)\n",
    "- Selecting Columns And Indexing\n",
    "- Check Describe option similar to Pandas\n",
    "- Adding Columns\n",
    "- Dropping columns\n",
    "- Renaming Columns"
   ]
  },
  {
   "cell_type": "code",
   "execution_count": 1,
   "id": "fb37d003",
   "metadata": {},
   "outputs": [
    {
     "name": "stderr",
     "output_type": "stream",
     "text": [
      "24/10/15 22:44:38 WARN Utils: Your hostname, MacBook-Pro-Eric.local resolves to a loopback address: 127.0.0.1; using 213.112.115.75 instead (on interface en0)\n",
      "24/10/15 22:44:38 WARN Utils: Set SPARK_LOCAL_IP if you need to bind to another address\n",
      "Setting default log level to \"WARN\".\n",
      "To adjust logging level use sc.setLogLevel(newLevel). For SparkR, use setLogLevel(newLevel).\n",
      "24/10/15 22:44:40 WARN NativeCodeLoader: Unable to load native-hadoop library for your platform... using builtin-java classes where applicable\n"
     ]
    }
   ],
   "source": [
    "import findspark\n",
    "findspark.init()\n",
    "\n",
    "from pyspark.sql import SparkSession\n",
    "from pyspark import SparkContext, SparkConf\n",
    "import pandas as pd\n",
    "import numpy as np\n",
    "import matplotlib.pyplot as plt\n",
    "import seaborn as sns\n",
    "sns.set_theme()\n",
    "\n",
    "\n",
    "\n",
    "conf = SparkConf().set('spark.ui.port', '4040')\n",
    "sc = SparkContext(conf=conf)\n",
    "spark = SparkSession.builder.master('local[*]').getOrCreate()"
   ]
  },
  {
   "cell_type": "code",
   "execution_count": 2,
   "id": "078fccba",
   "metadata": {},
   "outputs": [
    {
     "data": {
      "text/html": [
       "\n",
       "            <div>\n",
       "                <p><b>SparkSession - in-memory</b></p>\n",
       "                \n",
       "        <div>\n",
       "            <p><b>SparkContext</b></p>\n",
       "\n",
       "            <p><a href=\"http://c-213-112-115-75.bbcust.telenor.se:4040\">Spark UI</a></p>\n",
       "\n",
       "            <dl>\n",
       "              <dt>Version</dt>\n",
       "                <dd><code>v3.5.3</code></dd>\n",
       "              <dt>Master</dt>\n",
       "                <dd><code>local[*]</code></dd>\n",
       "              <dt>AppName</dt>\n",
       "                <dd><code>pyspark-shell</code></dd>\n",
       "            </dl>\n",
       "        </div>\n",
       "        \n",
       "            </div>\n",
       "        "
      ],
      "text/plain": [
       "<pyspark.sql.session.SparkSession at 0x105bb0ed0>"
      ]
     },
     "execution_count": 2,
     "metadata": {},
     "output_type": "execute_result"
    }
   ],
   "source": [
    "spark"
   ]
  },
  {
   "cell_type": "code",
   "execution_count": 4,
   "id": "b7b4a628",
   "metadata": {},
   "outputs": [
    {
     "name": "stderr",
     "output_type": "stream",
     "text": [
      "24/10/15 22:45:25 WARN SparkStringUtils: Truncated the string representation of a plan since it was too large. This behavior can be adjusted by setting 'spark.sql.debug.maxToStringFields'.\n",
      "                                                                                \r"
     ]
    },
    {
     "name": "stdout",
     "output_type": "stream",
     "text": [
      "+--------------------+--------------------+---------------+--------------+-----------------+-----------------+--------------------+----+-------+-----------------+--------+------+-------+-----------+------+-----------------+----------+----------+----------+-----------+---------+----------+----+---------+----+-----+----+-----+\n",
      "|           Job Title|     Salary Estimate|Job Description|        Rating|     Company Name|         Location|        Headquarters|Size|Founded|Type of ownership|Industry|Sector|Revenue|Competitors|hourly|employer_provided|min_salary|max_salary|avg_salary|company_txt|job_state|same_state| age|python_yn|R_yn|spark| aws|excel|\n",
      "+--------------------+--------------------+---------------+--------------+-----------------+-----------------+--------------------+----+-------+-----------------+--------+------+-------+-----------+------+-----------------+----------+----------+----------+-----------+---------+----------+----+---------+----+-----+----+-----+\n",
      "|      Data Scientist|$53K-$91K (Glassd...| Data Scientist|          NULL|             NULL|             NULL|                NULL|NULL|   NULL|             NULL|    NULL|  NULL|   NULL|       NULL|  NULL|             NULL|      NULL|      NULL|      NULL|       NULL|     NULL|      NULL|NULL|     NULL|NULL| NULL|NULL| NULL|\n",
      "|Location: Albuque...|                  NM|           NULL|          NULL|             NULL|             NULL|                NULL|NULL|   NULL|             NULL|    NULL|  NULL|   NULL|       NULL|  NULL|             NULL|      NULL|      NULL|      NULL|       NULL|     NULL|      NULL|NULL|     NULL|NULL| NULL|NULL| NULL|\n",
      "|Education Require...|  preferably in math|    engineering|      business| or the sciences.|             NULL|                NULL|NULL|   NULL|             NULL|    NULL|  NULL|   NULL|       NULL|  NULL|             NULL|      NULL|      NULL|      NULL|       NULL|     NULL|      NULL|NULL|     NULL|NULL| NULL|NULL| NULL|\n",
      "|    Skills Required:|                NULL|           NULL|          NULL|             NULL|             NULL|                NULL|NULL|   NULL|             NULL|    NULL|  NULL|   NULL|       NULL|  NULL|             NULL|      NULL|      NULL|      NULL|       NULL|     NULL|      NULL|NULL|     NULL|NULL| NULL|NULL| NULL|\n",
      "|Bachelor’s Degree...|                e.g.|           math| data analysis|         database| computer science| Artificial Intel...|NULL|   NULL|             NULL|    NULL|  NULL|   NULL|       NULL|  NULL|             NULL|      NULL|      NULL|      NULL|       NULL|     NULL|      NULL|NULL|     NULL|NULL| NULL|NULL| NULL|\n",
      "+--------------------+--------------------+---------------+--------------+-----------------+-----------------+--------------------+----+-------+-----------------+--------+------+-------+-----------+------+-----------------+----------+----------+----------+-----------+---------+----------+----+---------+----+-----+----+-----+\n",
      "only showing top 5 rows\n",
      "\n"
     ]
    }
   ],
   "source": [
    "## read the dataset\n",
    "df = spark.read.csv('./dataset/salary_data_cleaned.csv', header=True, inferSchema=True)\n",
    "df.show(5)"
   ]
  },
  {
   "cell_type": "code",
   "execution_count": 5,
   "id": "79a95903",
   "metadata": {},
   "outputs": [
    {
     "name": "stdout",
     "output_type": "stream",
     "text": [
      "root\n",
      " |-- Job Title: string (nullable = true)\n",
      " |-- Salary Estimate: string (nullable = true)\n",
      " |-- Job Description: string (nullable = true)\n",
      " |-- Rating: string (nullable = true)\n",
      " |-- Company Name: string (nullable = true)\n",
      " |-- Location: string (nullable = true)\n",
      " |-- Headquarters: string (nullable = true)\n",
      " |-- Size: string (nullable = true)\n",
      " |-- Founded: string (nullable = true)\n",
      " |-- Type of ownership: string (nullable = true)\n",
      " |-- Industry: string (nullable = true)\n",
      " |-- Sector: string (nullable = true)\n",
      " |-- Revenue: string (nullable = true)\n",
      " |-- Competitors: string (nullable = true)\n",
      " |-- hourly: string (nullable = true)\n",
      " |-- employer_provided: string (nullable = true)\n",
      " |-- min_salary: string (nullable = true)\n",
      " |-- max_salary: string (nullable = true)\n",
      " |-- avg_salary: string (nullable = true)\n",
      " |-- company_txt: string (nullable = true)\n",
      " |-- job_state: string (nullable = true)\n",
      " |-- same_state: string (nullable = true)\n",
      " |-- age: string (nullable = true)\n",
      " |-- python_yn: string (nullable = true)\n",
      " |-- R_yn: string (nullable = true)\n",
      " |-- spark: string (nullable = true)\n",
      " |-- aws: string (nullable = true)\n",
      " |-- excel: string (nullable = true)\n",
      "\n"
     ]
    }
   ],
   "source": [
    "### Check the schema\n",
    "df.printSchema()"
   ]
  },
  {
   "cell_type": "code",
   "execution_count": 6,
   "id": "19da5885",
   "metadata": {},
   "outputs": [
    {
     "data": {
      "text/plain": [
       "pyspark.sql.dataframe.DataFrame"
      ]
     },
     "execution_count": 6,
     "metadata": {},
     "output_type": "execute_result"
    }
   ],
   "source": [
    "type(df)"
   ]
  },
  {
   "cell_type": "code",
   "execution_count": 7,
   "id": "e4a3c8eb",
   "metadata": {},
   "outputs": [
    {
     "data": {
      "text/plain": [
       "[Row(Job Title='Data Scientist', Salary Estimate='$53K-$91K (Glassdoor est.)', Job Description='Data Scientist', Rating=None, Company Name=None, Location=None, Headquarters=None, Size=None, Founded=None, Type of ownership=None, Industry=None, Sector=None, Revenue=None, Competitors=None, hourly=None, employer_provided=None, min_salary=None, max_salary=None, avg_salary=None, company_txt=None, job_state=None, same_state=None, age=None, python_yn=None, R_yn=None, spark=None, aws=None, excel=None),\n",
       " Row(Job Title='Location: Albuquerque', Salary Estimate=' NM', Job Description=None, Rating=None, Company Name=None, Location=None, Headquarters=None, Size=None, Founded=None, Type of ownership=None, Industry=None, Sector=None, Revenue=None, Competitors=None, hourly=None, employer_provided=None, min_salary=None, max_salary=None, avg_salary=None, company_txt=None, job_state=None, same_state=None, age=None, python_yn=None, R_yn=None, spark=None, aws=None, excel=None),\n",
       " Row(Job Title='Education Required: Bachelor’s degree required', Salary Estimate=' preferably in math', Job Description=' engineering', Rating=' business', Company Name=' or the sciences.', Location=None, Headquarters=None, Size=None, Founded=None, Type of ownership=None, Industry=None, Sector=None, Revenue=None, Competitors=None, hourly=None, employer_provided=None, min_salary=None, max_salary=None, avg_salary=None, company_txt=None, job_state=None, same_state=None, age=None, python_yn=None, R_yn=None, spark=None, aws=None, excel=None)]"
      ]
     },
     "execution_count": 7,
     "metadata": {},
     "output_type": "execute_result"
    }
   ],
   "source": [
    "df.head(3)"
   ]
  },
  {
   "cell_type": "code",
   "execution_count": 8,
   "id": "c513816d",
   "metadata": {},
   "outputs": [
    {
     "name": "stdout",
     "output_type": "stream",
     "text": [
      "+--------------------+--------------------+\n",
      "|           Job Title|              Rating|\n",
      "+--------------------+--------------------+\n",
      "|      Data Scientist|                NULL|\n",
      "|Location: Albuque...|                NULL|\n",
      "|Education Require...|            business|\n",
      "|    Skills Required:|                NULL|\n",
      "|Bachelor’s Degree...|       data analysis|\n",
      "|Applicant should ...|              MATLAB|\n",
      "|Excellent verbal ...|                NULL|\n",
      "|Applicant must be...|                NULL|\n",
      "|U.S. citizenship ...|                NULL|\n",
      "|Responsibilities:...|              models|\n",
      "|           Benefits:|                NULL|\n",
      "|We offer competit...|                NULL|\n",
      "|Comprehensive health| long and short t...|\n",
      "|100% Company fund...|                NULL|\n",
      "|   Generous vacation|                NULL|\n",
      "|  Tuition assistance|                NULL|\n",
      "|Benefits are prov...|                NULL|\n",
      "|Tecolote Research...|                 3.8|\n",
      "|                3.8\"|501 to 1000 emplo...|\n",
      "| , NM,0,47,1,0,0,0,1|                NULL|\n",
      "+--------------------+--------------------+\n",
      "only showing top 20 rows\n",
      "\n"
     ]
    }
   ],
   "source": [
    "df.select(['Job Title','Rating']).show()"
   ]
  },
  {
   "cell_type": "code",
   "execution_count": 9,
   "id": "c3d42722",
   "metadata": {},
   "outputs": [
    {
     "data": {
      "text/plain": [
       "[('Job Title', 'string'),\n",
       " ('Salary Estimate', 'string'),\n",
       " ('Job Description', 'string'),\n",
       " ('Rating', 'string'),\n",
       " ('Company Name', 'string'),\n",
       " ('Location', 'string'),\n",
       " ('Headquarters', 'string'),\n",
       " ('Size', 'string'),\n",
       " ('Founded', 'string'),\n",
       " ('Type of ownership', 'string'),\n",
       " ('Industry', 'string'),\n",
       " ('Sector', 'string'),\n",
       " ('Revenue', 'string'),\n",
       " ('Competitors', 'string'),\n",
       " ('hourly', 'string'),\n",
       " ('employer_provided', 'string'),\n",
       " ('min_salary', 'string'),\n",
       " ('max_salary', 'string'),\n",
       " ('avg_salary', 'string'),\n",
       " ('company_txt', 'string'),\n",
       " ('job_state', 'string'),\n",
       " ('same_state', 'string'),\n",
       " ('age', 'string'),\n",
       " ('python_yn', 'string'),\n",
       " ('R_yn', 'string'),\n",
       " ('spark', 'string'),\n",
       " ('aws', 'string'),\n",
       " ('excel', 'string')]"
      ]
     },
     "execution_count": 9,
     "metadata": {},
     "output_type": "execute_result"
    }
   ],
   "source": [
    "df.dtypes"
   ]
  },
  {
   "cell_type": "code",
   "execution_count": 10,
   "id": "fa74b18e",
   "metadata": {},
   "outputs": [
    {
     "name": "stderr",
     "output_type": "stream",
     "text": [
      "[Stage 7:>                                                          (0 + 1) / 1]\r"
     ]
    },
    {
     "name": "stdout",
     "output_type": "stream",
     "text": [
      "+-------+--------------------+--------------------+--------------------+--------------------+--------------------+--------------------+-----------------+------------------+--------------------+--------------------+--------------------+--------------------+--------------------+--------------------+--------------------+--------------------+--------------------+--------------------+-----------------+--------------------+---------+------------------+--------------------+-------------------+-------------------+--------------------+--------------------+-------------------+\n",
      "|summary|           Job Title|     Salary Estimate|     Job Description|              Rating|        Company Name|            Location|     Headquarters|              Size|             Founded|   Type of ownership|            Industry|              Sector|             Revenue|         Competitors|              hourly|   employer_provided|          min_salary|          max_salary|       avg_salary|         company_txt|job_state|        same_state|                 age|          python_yn|               R_yn|               spark|                 aws|              excel|\n",
      "+-------+--------------------+--------------------+--------------------+--------------------+--------------------+--------------------+-----------------+------------------+--------------------+--------------------+--------------------+--------------------+--------------------+--------------------+--------------------+--------------------+--------------------+--------------------+-----------------+--------------------+---------+------------------+--------------------+-------------------+-------------------+--------------------+--------------------+-------------------+\n",
      "|  count|               25507|               10805|                8102|                4638|                3294|                2466|             1918|              1633|                1405|                1249|                1131|                1061|                 992|                 930|                 895|                 874|                 110|                  76|               71|                  63|       51|                42|                  41|                 39|                 33|                  31|                  21|                 14|\n",
      "|   mean|  21041.962962962964|   61.00671834625333|  123.98571428571427|  1813.0499999999997|   1785.072047244095|    41.2818181818182|178.0695652173913| 2.788888888888889|  2.9333333333333336| -0.9520518358531319|  0.0821236559139785| 0.07595772787318363|   71.47723035952065|  124.28458445040214|   98.39453333333334|  41.336363636363636|   60.18666666666666|   75.33000000000001|            81.06|  44.199999999999996|      1.0|0.9750000000000001|  0.5846153846153845|0.20769230769230765|0.44166666666666665| 0.18181818181818182| 0.14285714285714285|0.16666666666666666|\n",
      "| stddev|   50435.28942690325|   326.2024528016523|  470.17593319877676|  10792.306144431019|   575.7746937326941|  177.05726444225579|580.2639183515647|1.7907897991040613|  1.7283903880007356| 0.46280611901825025|  0.4667868526920021|  0.5693475689729077|   32.94909367775586|   49.49683513333299|   40.81039599592259|    80.2953034590178|   82.30609130961491|   50.96190407222503|67.28260795579592|   58.65223453019174|      2.0|1.3739931378493646|  1.4842765655621335|  1.695317835717705| 0.9792931897624692| 0.40451991747794525| 0.37796447300922725|  0.408248290463863|\n",
      "|    min|        \"\"Education:|                #37)| \"\"Green Card Hol...| & reports labora...|      (Nasdaq: RUBY)| (b) in furtheran...|                 |            401(k)|                 ACL| 15 free therapy ...| 2018. For more i...|      AD&D insurance|         401(k) plan| Active Duty Wart...| Armed Forces Ser...| Business Process...|     Cloud Computing| \"\"protected stat...|               CA|                  CA|     HTML|               CSS|             Angular|              Kafka|                AWS|               Azure| GCP is preferred...|           analysts|\n",
      "|    max|Master’s degree ...|” we will continu...|” responsible for...|statistical analy...|e-IT Professional...|             Unknown|        Wholesale|       Vail Health| designed for rap...|eClinicalWorks, N...|             Vermeer|Unknown / Non-App...|University of Mar...|        Vionic Group|       Truckstop.com|           webfx.com|Works with engine...|Remedy BPCI Partn...|         TRANZACT|The Climate Corpo...|  Peraton|               2.9|Karyopharm Therap...|         Sumo Logic|     Pro-Sphere Tek|Excellent written...|Individually moti...|                  1|\n",
      "+-------+--------------------+--------------------+--------------------+--------------------+--------------------+--------------------+-----------------+------------------+--------------------+--------------------+--------------------+--------------------+--------------------+--------------------+--------------------+--------------------+--------------------+--------------------+-----------------+--------------------+---------+------------------+--------------------+-------------------+-------------------+--------------------+--------------------+-------------------+\n",
      "\n"
     ]
    },
    {
     "name": "stderr",
     "output_type": "stream",
     "text": [
      "                                                                                \r"
     ]
    }
   ],
   "source": [
    "df.describe().show()"
   ]
  },
  {
   "cell_type": "code",
   "execution_count": 36,
   "id": "6a8d7b54",
   "metadata": {},
   "outputs": [],
   "source": [
    "### Adding Columns in data frame\n",
    "df_pyspark=df_pyspark.withColumn('Experience After 2 year',df_pyspark['Experience']+2)"
   ]
  },
  {
   "cell_type": "code",
   "execution_count": 38,
   "id": "e9ff01ed",
   "metadata": {},
   "outputs": [
    {
     "name": "stdout",
     "output_type": "stream",
     "text": [
      "+---------+---+----------+-----------------------+\n",
      "|     Name|age|Experience|Experience After 2 year|\n",
      "+---------+---+----------+-----------------------+\n",
      "|    Krish| 31|        10|                     12|\n",
      "|Sudhanshu| 30|         8|                     10|\n",
      "|    Sunny| 29|         4|                      6|\n",
      "+---------+---+----------+-----------------------+\n",
      "\n"
     ]
    }
   ],
   "source": [
    "df_pyspark.show()"
   ]
  },
  {
   "cell_type": "code",
   "execution_count": 41,
   "id": "d98641db",
   "metadata": {},
   "outputs": [],
   "source": [
    "### Drop the columns\n",
    "df_pyspark=df_pyspark.drop('Experience After 2 year')"
   ]
  },
  {
   "cell_type": "code",
   "execution_count": 42,
   "id": "e0a2723f",
   "metadata": {},
   "outputs": [
    {
     "name": "stdout",
     "output_type": "stream",
     "text": [
      "+---------+---+----------+\n",
      "|     Name|age|Experience|\n",
      "+---------+---+----------+\n",
      "|    Krish| 31|        10|\n",
      "|Sudhanshu| 30|         8|\n",
      "|    Sunny| 29|         4|\n",
      "+---------+---+----------+\n",
      "\n"
     ]
    }
   ],
   "source": [
    "df_pyspark.show()"
   ]
  },
  {
   "cell_type": "code",
   "execution_count": 44,
   "id": "5432faa1",
   "metadata": {},
   "outputs": [
    {
     "name": "stdout",
     "output_type": "stream",
     "text": [
      "+---------+---+----------+\n",
      "| New Name|age|Experience|\n",
      "+---------+---+----------+\n",
      "|    Krish| 31|        10|\n",
      "|Sudhanshu| 30|         8|\n",
      "|    Sunny| 29|         4|\n",
      "+---------+---+----------+\n",
      "\n"
     ]
    }
   ],
   "source": [
    "### Rename the columns\n",
    "df_pyspark.withColumnRenamed('Name','New Name').show()"
   ]
  },
  {
   "cell_type": "code",
   "execution_count": null,
   "id": "2e5b7d72",
   "metadata": {},
   "outputs": [],
   "source": []
  },
  {
   "cell_type": "code",
   "execution_count": null,
   "id": "f211a741",
   "metadata": {},
   "outputs": [],
   "source": []
  },
  {
   "cell_type": "code",
   "execution_count": null,
   "id": "9a80b806",
   "metadata": {},
   "outputs": [],
   "source": []
  },
  {
   "cell_type": "code",
   "execution_count": null,
   "id": "e00f90e8",
   "metadata": {},
   "outputs": [],
   "source": []
  },
  {
   "cell_type": "code",
   "execution_count": null,
   "id": "7c6cb899",
   "metadata": {},
   "outputs": [],
   "source": []
  },
  {
   "cell_type": "code",
   "execution_count": null,
   "id": "2e0a8c75",
   "metadata": {},
   "outputs": [],
   "source": []
  }
 ],
 "metadata": {
  "kernelspec": {
   "display_name": "Python 3",
   "language": "python",
   "name": "python3"
  },
  "language_info": {
   "codemirror_mode": {
    "name": "ipython",
    "version": 3
   },
   "file_extension": ".py",
   "mimetype": "text/x-python",
   "name": "python",
   "nbconvert_exporter": "python",
   "pygments_lexer": "ipython3",
   "version": "3.11.10"
  }
 },
 "nbformat": 4,
 "nbformat_minor": 5
}
