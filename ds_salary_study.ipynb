{
 "cells": [
  {
   "cell_type": "markdown",
   "id": "00166693",
   "metadata": {},
   "source": [
    "# Analysing Data Scientist Salaries\n",
    "\n",
    "In this notebook, we will analyze the [Kaggle Jobs Dataset from Glassdoor](https://www.kaggle.com/datasets/thedevastator/jobs-dataset-from-glassdoor) that contains job postings from Glassdoor.com from 2017. \n",
    "\n",
    "We aim to analyze the dataset considering the following research questions:\n",
    "\n",
    "- What are the key factors that affect data science salaries? \n",
    "- Can we predict the salary of data science positions based on the job postings?  "
   ]
  },
  {
   "cell_type": "markdown",
   "id": "9bf3e679",
   "metadata": {},
   "source": [
    "## Setup the dataset to HDFS for big data analysis\n",
    "\n",
    "The HDFS will allow us to store and retrieve the data efficiently for our analysis. It makes sure the data is readily available in parallel.\n",
    "\n",
    "Before loading the data to HDFS we added the missing header **ID** into files `eda_data.csv` and `glassdoor_jobs.csv`."
   ]
  },
  {
   "cell_type": "code",
   "execution_count": null,
   "id": "e334f872",
   "metadata": {},
   "outputs": [],
   "source": [
    "# TODO: SET UP COMMANDS"
   ]
  },
  {
   "cell_type": "markdown",
   "id": "9ace5950",
   "metadata": {},
   "source": [
    "## EDA"
   ]
  },
  {
   "cell_type": "code",
   "execution_count": 1,
   "id": "fb37d003",
   "metadata": {},
   "outputs": [
    {
     "name": "stderr",
     "output_type": "stream",
     "text": [
      "24/10/17 10:20:47 WARN Utils: Your hostname, MacBook-Pro-Eric.local resolves to a loopback address: 127.0.0.1; using 213.112.119.200 instead (on interface en0)\n",
      "24/10/17 10:20:47 WARN Utils: Set SPARK_LOCAL_IP if you need to bind to another address\n",
      "Setting default log level to \"WARN\".\n",
      "To adjust logging level use sc.setLogLevel(newLevel). For SparkR, use setLogLevel(newLevel).\n",
      "24/10/17 10:20:48 WARN NativeCodeLoader: Unable to load native-hadoop library for your platform... using builtin-java classes where applicable\n"
     ]
    }
   ],
   "source": [
    "import findspark\n",
    "findspark.init()\n",
    "\n",
    "import pyspark\n",
    "from pyspark.sql import SparkSession\n",
    "from pyspark.sql.functions import udf, col\n",
    "import pyspark.sql.functions as F\n",
    "from pyspark import SparkContext, SparkConf\n",
    "import pandas as pd\n",
    "import numpy as np\n",
    "import matplotlib.pyplot as plt\n",
    "import seaborn as sns\n",
    "sns.set_theme()\n",
    "\n",
    "\n",
    "conf = SparkConf().set('spark.ui.port', '4040')\n",
    "sc = SparkContext(conf=conf)\n",
    "spark = SparkSession.builder.appName('Data Scientist Salaries').master('local[*]').getOrCreate()"
   ]
  },
  {
   "cell_type": "code",
   "execution_count": 2,
   "id": "078fccba",
   "metadata": {},
   "outputs": [
    {
     "data": {
      "text/html": [
       "\n",
       "            <div>\n",
       "                <p><b>SparkSession - in-memory</b></p>\n",
       "                \n",
       "        <div>\n",
       "            <p><b>SparkContext</b></p>\n",
       "\n",
       "            <p><a href=\"http://c-213-112-119-200.bbcust.telenor.se:4040\">Spark UI</a></p>\n",
       "\n",
       "            <dl>\n",
       "              <dt>Version</dt>\n",
       "                <dd><code>v3.5.3</code></dd>\n",
       "              <dt>Master</dt>\n",
       "                <dd><code>local[*]</code></dd>\n",
       "              <dt>AppName</dt>\n",
       "                <dd><code>pyspark-shell</code></dd>\n",
       "            </dl>\n",
       "        </div>\n",
       "        \n",
       "            </div>\n",
       "        "
      ],
      "text/plain": [
       "<pyspark.sql.session.SparkSession at 0x163201990>"
      ]
     },
     "execution_count": 2,
     "metadata": {},
     "output_type": "execute_result"
    }
   ],
   "source": [
    "spark"
   ]
  },
  {
   "cell_type": "code",
   "execution_count": 167,
   "id": "b7b4a628",
   "metadata": {},
   "outputs": [
    {
     "name": "stdout",
     "output_type": "stream",
     "text": [
      "+---+--------------------+--------------------+--------------------+------+--------------------+---------------+--------------+--------------------+-------+------------------+--------------------+--------------------+--------------------+--------------------+------+-----------------+----------+----------+----------+--------------------+---------+----------+---+---------+----+-----+---+-----+--------------+---------+--------+--------+\n",
      "| ID|           Job Title|     Salary Estimate|     Job Description|Rating|        Company Name|       Location|  Headquarters|                Size|Founded| Type of ownership|            Industry|              Sector|             Revenue|         Competitors|hourly|employer_provided|min_salary|max_salary|avg_salary|         company_txt|job_state|same_state|age|python_yn|R_yn|spark|aws|excel|      job_simp|seniority|desc_len|num_comp|\n",
      "+---+--------------------+--------------------+--------------------+------+--------------------+---------------+--------------+--------------------+-------+------------------+--------------------+--------------------+--------------------+--------------------+------+-----------------+----------+----------+----------+--------------------+---------+----------+---+---------+----+-----+---+-----+--------------+---------+--------+--------+\n",
      "|  0|      Data Scientist|$53K-$91K (Glassd...|Data Scientist\\nL...|   3.8|Tecolote Research...|Albuquerque, NM|    Goleta, CA|501 to 1000 emplo...|   1973| Company - Private| Aerospace & Defense| Aerospace & Defense|$50 to $100 milli...|                  -1|     0|                0|        53|        91|      72.0|   Tecolote Research|       NM|         0| 47|        1|   0|    0|  0|    1|data scientist|       na|    2536|       0|\n",
      "|  1|Healthcare Data S...|$63K-$112K (Glass...|What You Will Do:...|   3.4|University of Mar...|  Linthicum, MD| Baltimore, MD|    10000+ employees|   1984|Other Organization|Health Care Servi...|         Health Care|$2 to $5 billion ...|                  -1|     0|                0|        63|       112|      87.5|University of Mar...|       MD|         0| 36|        1|   0|    0|  0|    0|data scientist|       na|    4783|       0|\n",
      "|  2|      Data Scientist|$80K-$90K (Glassd...|KnowBe4, Inc. is ...|   4.8|        KnowBe4\\n4.8| Clearwater, FL|Clearwater, FL|501 to 1000 emplo...|   2010| Company - Private|   Security Services|   Business Services|$100 to $500 mill...|                  -1|     0|                0|        80|        90|      85.0|             KnowBe4|       FL|         1| 10|        1|   0|    1|  0|    1|data scientist|       na|    3461|       0|\n",
      "|  3|      Data Scientist|$56K-$97K (Glassd...|*Organization and...|   3.8|           PNNL\\n3.8|   Richland, WA|  Richland, WA|1001 to 5000 empl...|   1965|        Government|              Energy|Oil, Gas, Energy ...|$500 million to $...|Oak Ridge Nationa...|     0|                0|        56|        97|      76.5|                PNNL|       WA|         1| 55|        1|   0|    0|  0|    0|data scientist|       na|    3883|       3|\n",
      "|  4|      Data Scientist|$86K-$143K (Glass...|Data Scientist\\nA...|   2.9|Affinity Solution...|   New York, NY|  New York, NY| 51 to 200 employees|   1998| Company - Private|Advertising & Mar...|   Business Services|Unknown / Non-App...|Commerce Signals,...|     0|                0|        86|       143|     114.5|  Affinity Solutions|       NY|         1| 22|        1|   0|    0|  0|    1|data scientist|       na|    2728|       3|\n",
      "+---+--------------------+--------------------+--------------------+------+--------------------+---------------+--------------+--------------------+-------+------------------+--------------------+--------------------+--------------------+--------------------+------+-----------------+----------+----------+----------+--------------------+---------+----------+---+---------+----+-----+---+-----+--------------+---------+--------+--------+\n",
      "only showing top 5 rows\n",
      "\n"
     ]
    }
   ],
   "source": [
    "# read the dataset, ecape quotes inside the job descriptions\n",
    "df = spark.read.csv('./dataset/eda_data.csv', header=True, inferSchema=True, multiLine=True, quote='\"', escape='\"', mode='PERMISSIVE')\n",
    "df.show(5)"
   ]
  },
  {
   "cell_type": "code",
   "execution_count": 168,
   "id": "56dbff13",
   "metadata": {},
   "outputs": [
    {
     "name": "stdout",
     "output_type": "stream",
     "text": [
      "Number of datapoints: 742\n",
      "Number of columns: 33\n"
     ]
    }
   ],
   "source": [
    "print('Number of datapoints:', df.count())\n",
    "print('Number of columns:', len(df.columns))"
   ]
  },
  {
   "cell_type": "markdown",
   "id": "f6a5d126",
   "metadata": {},
   "source": [
    "**Show schema:**"
   ]
  },
  {
   "cell_type": "code",
   "execution_count": 169,
   "id": "1e0c7b86",
   "metadata": {},
   "outputs": [
    {
     "name": "stdout",
     "output_type": "stream",
     "text": [
      "root\n",
      " |-- ID: integer (nullable = true)\n",
      " |-- Job Title: string (nullable = true)\n",
      " |-- Salary Estimate: string (nullable = true)\n",
      " |-- Job Description: string (nullable = true)\n",
      " |-- Rating: double (nullable = true)\n",
      " |-- Company Name: string (nullable = true)\n",
      " |-- Location: string (nullable = true)\n",
      " |-- Headquarters: string (nullable = true)\n",
      " |-- Size: string (nullable = true)\n",
      " |-- Founded: integer (nullable = true)\n",
      " |-- Type of ownership: string (nullable = true)\n",
      " |-- Industry: string (nullable = true)\n",
      " |-- Sector: string (nullable = true)\n",
      " |-- Revenue: string (nullable = true)\n",
      " |-- Competitors: string (nullable = true)\n",
      " |-- hourly: integer (nullable = true)\n",
      " |-- employer_provided: integer (nullable = true)\n",
      " |-- min_salary: integer (nullable = true)\n",
      " |-- max_salary: integer (nullable = true)\n",
      " |-- avg_salary: double (nullable = true)\n",
      " |-- company_txt: string (nullable = true)\n",
      " |-- job_state: string (nullable = true)\n",
      " |-- same_state: integer (nullable = true)\n",
      " |-- age: integer (nullable = true)\n",
      " |-- python_yn: integer (nullable = true)\n",
      " |-- R_yn: integer (nullable = true)\n",
      " |-- spark: integer (nullable = true)\n",
      " |-- aws: integer (nullable = true)\n",
      " |-- excel: integer (nullable = true)\n",
      " |-- job_simp: string (nullable = true)\n",
      " |-- seniority: string (nullable = true)\n",
      " |-- desc_len: integer (nullable = true)\n",
      " |-- num_comp: integer (nullable = true)\n",
      "\n"
     ]
    }
   ],
   "source": [
    "df.printSchema()"
   ]
  },
  {
   "cell_type": "markdown",
   "id": "0e859655",
   "metadata": {},
   "source": [
    "### Data Cleaning\n",
    "\n",
    "First, we will fix our dataset with regard to missing values and either fill the instances or drop the records containing these values.\n",
    "\n",
    "**Handling of irrelevant features:**\n",
    "\n",
    "The dataset contains a lot of columns that are interesting and could be used for the predicitons.  We have decided to drop features that will not be necessary for our analysis, from the data set, to decrease dimensionality and also the number of missing values that need to be filled. Since the `Job Description` column contains a long string of text we choose to drop and use `desc_len` as an inidicator of how detailed the descriptions for each job are. We also do not care about where a single person wants to work or their feature so we drop columns `same_state` and `age`. `Company Name`is just an unclean version of `company_txt`."
   ]
  },
  {
   "cell_type": "code",
   "execution_count": 170,
   "id": "24b8f26e",
   "metadata": {},
   "outputs": [],
   "source": [
    "def drop_irrelevant_cols(df):\n",
    "    df = df.drop(*['Job Description', 'age', 'same_state', 'Competitors', 'Company Name'])\n",
    "    return df\n",
    "\n",
    "df = drop_irrelevant_cols(df)"
   ]
  },
  {
   "cell_type": "code",
   "execution_count": 171,
   "id": "895a1842",
   "metadata": {},
   "outputs": [
    {
     "name": "stderr",
     "output_type": "stream",
     "text": [
      "[Stage 297:>                                                        (0 + 1) / 1]\r"
     ]
    },
    {
     "name": "stdout",
     "output_type": "stream",
     "text": [
      "+-------+------------------+-----------------+--------------------+------------------+----------------+-------------------+-------+-----------------+-----------------+---------+----------------+--------------------+-------------------+--------------------+-----------------+------------------+------------------+--------------------+---------+-------------------+--------------------+-------------------+-------------------+-------------------+--------+---------+------------------+------------------+\n",
      "|summary|                ID|        Job Title|     Salary Estimate|            Rating|        Location|       Headquarters|   Size|          Founded|Type of ownership| Industry|          Sector|             Revenue|             hourly|   employer_provided|       min_salary|        max_salary|        avg_salary|         company_txt|job_state|          python_yn|                R_yn|              spark|                aws|              excel|job_simp|seniority|          desc_len|          num_comp|\n",
      "+-------+------------------+-----------------+--------------------+------------------+----------------+-------------------+-------+-----------------+-----------------+---------+----------------+--------------------+-------------------+--------------------+-----------------+------------------+------------------+--------------------+---------+-------------------+--------------------+-------------------+-------------------+-------------------+--------+---------+------------------+------------------+\n",
      "|  count|               742|              742|                 742|               742|             742|                742|    742|              742|              742|      742|             742|                 742|                742|                 742|              742|               742|               742|                 742|      742|                742|                 742|                742|                742|                742|     742|      742|               742|               742|\n",
      "|   mean|             370.5|             NULL|                NULL|3.6188679245283057|            NULL|               -1.0|   -1.0|1837.154986522911|             -1.0|     -1.0|            -1.0|                -1.0|0.03234501347708895|0.022911051212938006|74.71967654986523|128.14959568733153|100.62601078167116|                NULL|     NULL| 0.5283018867924528|0.002695417789757...|0.22506738544474394| 0.2371967654986523|  0.522911051212938|    NULL|     NULL| 3869.545822102426|1.0539083557951483|\n",
      "| stddev|214.34123883813555|             NULL|                NULL|0.8012101584634994|            NULL|               NULL|   NULL|497.1837627029657|             NULL|      0.0|             0.0|                NULL|0.17703404247509585| 0.14972089250897577|30.98059321850606|45.220324256712196|38.855948156512454|                NULL|     NULL|0.49953508800982177| 0.05188236934528476|0.41790840066994306|0.42565083812312854|0.49981172181094585|    NULL|     NULL|1521.4958678994672| 1.384239252217433|\n",
      "|    min|                 0|Ag Data Scientist|$10-$17 Per Hour(...|              -1.0|Agoura Hills, CA|                 -1|     -1|               -1|               -1|       -1|              -1|$1 to $2 billion ...|                  0|                   0|               15|                16|              13.5|1-800-FLOWERS.COM...|       AL|                  0|                   0|                  0|                  0|                  0| analyst|       jr|               407|                 0|\n",
      "|    max|               741| Web Data Analyst|Employer Provided...|               5.0|   Worcester, MA|Zurich, Switzerland|Unknown|             2019|          Unknown|Wholesale|Travel & Tourism|Unknown / Non-App...|                  1|                   1|              202|               306|             254.0|           webfx.com|       WI|                  1|                   1|                  1|                  1|                  1|      na|   senior|             10051|                 4|\n",
      "+-------+------------------+-----------------+--------------------+------------------+----------------+-------------------+-------+-----------------+-----------------+---------+----------------+--------------------+-------------------+--------------------+-----------------+------------------+------------------+--------------------+---------+-------------------+--------------------+-------------------+-------------------+-------------------+--------+---------+------------------+------------------+\n",
      "\n"
     ]
    },
    {
     "name": "stderr",
     "output_type": "stream",
     "text": [
      "                                                                                \r"
     ]
    }
   ],
   "source": [
    "df.describe().show()"
   ]
  },
  {
   "cell_type": "markdown",
   "id": "656ac59b",
   "metadata": {},
   "source": [
    "**Handling missing values:**\n",
    "\n"
   ]
  },
  {
   "cell_type": "code",
   "execution_count": 172,
   "id": "43f51571",
   "metadata": {},
   "outputs": [
    {
     "name": "stdout",
     "output_type": "stream",
     "text": [
      "+---+--------------------+--------------------+------+-------------+------------+----+-------+-----------------+--------+------+-------+------+-----------------+----------+----------+----------+--------------------+---------+---------+----+-----+---+-----+--------+---------+--------+--------+\n",
      "| ID|           Job Title|     Salary Estimate|Rating|     Location|Headquarters|Size|Founded|Type of ownership|Industry|Sector|Revenue|hourly|employer_provided|min_salary|max_salary|avg_salary|         company_txt|job_state|python_yn|R_yn|spark|aws|excel|job_simp|seniority|desc_len|num_comp|\n",
      "+---+--------------------+--------------------+------+-------------+------------+----+-------+-----------------+--------+------+-------+------+-----------------+----------+----------+----------+--------------------+---------+---------+----+-----+---+-----+--------+---------+--------+--------+\n",
      "|581|Scientist – Cance...|Employer Provided...|  -1.0|Cambridge, MA|          -1|  -1|     -1|               -1|      -1|    -1|     -1|     0|                1|       100|       135|     117.5|Monte Rosa Therap...|       MA|        0|   0|    0|  0|    1|      na|       na|    3437|       0|\n",
      "+---+--------------------+--------------------+------+-------------+------------+----+-------+-----------------+--------+------+-------+------+-----------------+----------+----------+----------+--------------------+---------+---------+----+-----+---+-----+--------+---------+--------+--------+\n",
      "\n"
     ]
    }
   ],
   "source": [
    "# after playing around with the data, it seems that one of the records seem to have many missing values, so we drop it\n",
    "bad_record = df.filter(df['Headquarters'] == -1)\n",
    "bad_record.show()"
   ]
  },
  {
   "cell_type": "code",
   "execution_count": 173,
   "id": "2a8410b3",
   "metadata": {},
   "outputs": [
    {
     "name": "stdout",
     "output_type": "stream",
     "text": [
      "+-------+------------------+-----------------+--------------------+------------------+----------------+-------------------+-----------------+------------------+--------------------+---------+----------------+--------------------+--------------------+--------------------+------------------+------------------+------------------+--------------------+---------+------------------+--------------------+-------------------+-------------------+------------------+--------+---------+------------------+------------------+\n",
      "|summary|                ID|        Job Title|     Salary Estimate|            Rating|        Location|       Headquarters|             Size|           Founded|   Type of ownership| Industry|          Sector|             Revenue|              hourly|   employer_provided|        min_salary|        max_salary|        avg_salary|         company_txt|job_state|         python_yn|                R_yn|              spark|                aws|             excel|job_simp|seniority|          desc_len|          num_comp|\n",
      "+-------+------------------+-----------------+--------------------+------------------+----------------+-------------------+-----------------+------------------+--------------------+---------+----------------+--------------------+--------------------+--------------------+------------------+------------------+------------------+--------------------+---------+------------------+--------------------+-------------------+-------------------+------------------+--------+---------+------------------+------------------+\n",
      "|  count|               741|              741|                 741|               741|             741|                741|              741|               741|                 741|      741|             741|                 741|                 741|                 741|               741|               741|               741|                 741|      741|               741|                 741|                741|                741|               741|     741|      741|               741|               741|\n",
      "|   mean| 370.2159244264507|             NULL|                NULL|3.6251012145749026|            NULL|               NULL|             NULL|1839.6356275303644|                NULL|     -1.0|            -1.0|                NULL|0.032388663967611336|0.021592442645074223|  74.6855600539811|  128.140350877193|100.60323886639677|                NULL|     NULL|0.5290148448043185|0.002699055330634278| 0.2253711201079622|0.23751686909581646|0.5222672064777328|    NULL|     NULL|3870.1295546558704|1.0553306342780027|\n",
      "| stddev|214.34619462793214|             NULL|                NULL|0.7835410934642616|            NULL|               NULL|             NULL| 492.9032463846545|                NULL|      0.0|             0.0|                NULL|  0.1771496239813286|  0.1454467531327641|30.987568027957078|45.250166544546005| 38.87723839435158|                NULL|     NULL|0.4994945835227074| 0.05191731848396881|0.41810871297729174|0.42584896294587343|0.4998413141338195|    NULL|     NULL|1522.4404135868954|1.3846315950630184|\n",
      "|    min|                 0|Ag Data Scientist|$10-$17 Per Hour(...|              -1.0|Agoura Hills, CA|          Akron, OH|1 to 50 employees|                -1|College / University|       -1|              -1|$1 to $2 billion ...|                   0|                   0|                15|                16|              13.5|1-800-FLOWERS.COM...|       AL|                 0|                   0|                  0|                  0|                 0| analyst|       jr|               407|                 0|\n",
      "|    max|               741| Web Data Analyst|Employer Provided...|               5.0|   Worcester, MA|Zurich, Switzerland|          Unknown|              2019|             Unknown|Wholesale|Travel & Tourism|Unknown / Non-App...|                   1|                   1|               202|               306|             254.0|           webfx.com|       WI|                 1|                   1|                  1|                  1|                 1|      na|   senior|             10051|                 4|\n",
      "+-------+------------------+-----------------+--------------------+------------------+----------------+-------------------+-----------------+------------------+--------------------+---------+----------------+--------------------+--------------------+--------------------+------------------+------------------+------------------+--------------------+---------+------------------+--------------------+-------------------+-------------------+------------------+--------+---------+------------------+------------------+\n",
      "\n"
     ]
    }
   ],
   "source": [
    "df = df.filter(df['ID'] != 581)\n",
    "df.describe().show()"
   ]
  },
  {
   "cell_type": "code",
   "execution_count": 178,
   "id": "e49fecbc",
   "metadata": {},
   "outputs": [
    {
     "name": "stdout",
     "output_type": "stream",
     "text": [
      "+---------+---------+------------+\n",
      "|min_value|max_value|median_value|\n",
      "+---------+---------+------------+\n",
      "|       -1|     2019|        1988|\n",
      "+---------+---------+------------+\n",
      "\n"
     ]
    }
   ],
   "source": [
    "min_max_median = df.agg(\n",
    "    F.min('Founded').alias('min_value'),\n",
    "    F.max('Founded').alias('max_value'),\n",
    "    F.expr('percentile_approx(Founded, 0.5)').alias('median_value')  # 0.5 for median\n",
    ")\n",
    "\n",
    "# Show the results\n",
    "min_max_median.show()"
   ]
  },
  {
   "cell_type": "markdown",
   "id": "d1112105",
   "metadata": {},
   "source": [
    "df.select(['Company Name'])"
   ]
  },
  {
   "cell_type": "code",
   "execution_count": 176,
   "id": "4731ff66",
   "metadata": {},
   "outputs": [],
   "source": [
    "def fill_missing_values(df):\n",
    "    df = df.withColumn('Rating', F.when(df['Rating'] == -1, 3.0).otherwise(df['Rating']))\n",
    "    df = df.withColumn('Size', F.when(df['Size'] == -1, 'Unknown').otherwise(df['Size']))\n",
    "    df = df.withColumn('Industry', F.when(df['Industry'] == -1, 'Unknown').otherwise(df['Industry']))\n",
    "    df = df.withColumn('Founded', F.when(df['Founded'] == 1988, 'Unknown').otherwise(df['Founded']))  # fill in median year founded\n",
    "    df = df.withColumn('seniority', F.when(df['seniority'] == 'na', 'med').otherwise(df['seniority']))\n",
    "    # not a clearly deined job position, research or scientist positons, devops/spark engineers or many tasks etc\n",
    "    df = df.withColumn('job_simp', F.when(df['job_simp'] == 'na', 'vague').otherwise(df['job_simp'])) \n",
    "    return df\n",
    "\n",
    "df = fill_missing_values(df)"
   ]
  },
  {
   "cell_type": "code",
   "execution_count": 177,
   "id": "6d400871",
   "metadata": {},
   "outputs": [
    {
     "name": "stdout",
     "output_type": "stream",
     "text": [
      "+--------------+-----+\n",
      "|      job_simp|count|\n",
      "+--------------+-----+\n",
      "|data scientist|  279|\n",
      "|         vague|  183|\n",
      "|      director|   14|\n",
      "|       manager|   22|\n",
      "| data engineer|  119|\n",
      "|       analyst|  102|\n",
      "|           mle|   22|\n",
      "+--------------+-----+\n",
      "\n"
     ]
    }
   ],
   "source": [
    "df.groupBy('job_simp').count().show()"
   ]
  },
  {
   "cell_type": "code",
   "execution_count": 181,
   "id": "bac70378",
   "metadata": {},
   "outputs": [
    {
     "data": {
      "text/plain": [
       "519"
      ]
     },
     "execution_count": 181,
     "metadata": {},
     "output_type": "execute_result"
    }
   ],
   "source": [
    "# Filter rows where 'column_name' equals -1\n",
    "rows_with_minus_one = df.filter(df['seniority'] == 'med')\n",
    "rows_with_minus_one.count()"
   ]
  },
  {
   "cell_type": "code",
   "execution_count": 165,
   "id": "0df88f58",
   "metadata": {},
   "outputs": [
    {
     "data": {
      "text/plain": [
       "[Row(Job Title='Research Scientist'),\n",
       " Row(Job Title='Scientist I/II, Biology'),\n",
       " Row(Job Title='Scientist'),\n",
       " Row(Job Title='Spectral Scientist/Engineer'),\n",
       " Row(Job Title='R&D Data Analysis Scientist'),\n",
       " Row(Job Title='Analytics Consultant'),\n",
       " Row(Job Title='Scientist'),\n",
       " Row(Job Title='Research Scientist'),\n",
       " Row(Job Title='Data Management Specialist'),\n",
       " Row(Job Title='Sr. Scientist II'),\n",
       " Row(Job Title='Data Modeler'),\n",
       " Row(Job Title='Scientist'),\n",
       " Row(Job Title='Research Scientist'),\n",
       " Row(Job Title='Project Scientist'),\n",
       " Row(Job Title='Associate Scientist'),\n",
       " Row(Job Title='Scientist 2, QC Viral Vector'),\n",
       " Row(Job Title='Senior Research Scientist - Embedded System Development for DevOps'),\n",
       " Row(Job Title='Senior Spark Engineer (Data Science)'),\n",
       " Row(Job Title='Pricipal Scientist Molecular and cellular biologist'),\n",
       " Row(Job Title='Senior Scientist - Neuroscience'),\n",
       " Row(Job Title='Medical Lab Scientist'),\n",
       " Row(Job Title='Scientist, Analytical Development'),\n",
       " Row(Job Title='Sr. Scientist - Digital & Image Analysis/Computational Pathology'),\n",
       " Row(Job Title='Principal Scientist - Immunologist'),\n",
       " Row(Job Title='MED TECH/LAB SCIENTIST - LABORATORY'),\n",
       " Row(Job Title='Sr. Scientist, Quantitative Translational Sciences'),\n",
       " Row(Job Title='VP, Data Science'),\n",
       " Row(Job Title='PV Scientist'),\n",
       " Row(Job Title='Principal Scientist, Chemistry & Immunology'),\n",
       " Row(Job Title='Software Engineer - Data Visualization'),\n",
       " Row(Job Title='Scientist/Senior Scientist, Autoimmune'),\n",
       " Row(Job Title='Principal Scientist, Hematology'),\n",
       " Row(Job Title='Medical Laboratory Scientist'),\n",
       " Row(Job Title='R&D Specialist/ Food Scientist'),\n",
       " Row(Job Title='MED TECH/LAB SCIENTIST- SOUTH COASTAL LAB'),\n",
       " Row(Job Title='Food Scientist - Developer'),\n",
       " Row(Job Title='Staff Scientist-Downstream Process Development'),\n",
       " Row(Job Title='Medical Technologist / Clinical Laboratory Scientist'),\n",
       " Row(Job Title='Pricipal Scientist Molecular and cellular biologist'),\n",
       " Row(Job Title='Data & Analytics Consultant (NYC)'),\n",
       " Row(Job Title='Senior Scientist - Neuroscience'),\n",
       " Row(Job Title='Research Scientist'),\n",
       " Row(Job Title='Medical Lab Scientist'),\n",
       " Row(Job Title='Scientist, Analytical Development'),\n",
       " Row(Job Title='Sr. Scientist - Digital & Image Analysis/Computational Pathology'),\n",
       " Row(Job Title='Principal Scientist - Immunologist'),\n",
       " Row(Job Title='Sr. Scientist, Quantitative Translational Sciences'),\n",
       " Row(Job Title='MED TECH/LAB SCIENTIST - LABORATORY'),\n",
       " Row(Job Title='VP, Data Science'),\n",
       " Row(Job Title='CONSULTANT– DATA ANALYTICS GROUP'),\n",
       " Row(Job Title='Staff Scientist'),\n",
       " Row(Job Title='Associate Scientist/Scientist, Process Analytical Technology - Small Molecule Analytical Chemistry'),\n",
       " Row(Job Title='RESEARCH SCIENTIST - BIOLOGICAL SAFETY'),\n",
       " Row(Job Title='Data Operations Lead'),\n",
       " Row(Job Title='PV Scientist'),\n",
       " Row(Job Title='Product Engineer – Data Science'),\n",
       " Row(Job Title='Principal Scientist, Chemistry & Immunology'),\n",
       " Row(Job Title='Scientist/Senior Scientist, Autoimmune'),\n",
       " Row(Job Title='Software Engineer - Data Visualization'),\n",
       " Row(Job Title='Principal Scientist, Hematology'),\n",
       " Row(Job Title='Scientist Manufacturing - Kentucky BioProcessing'),\n",
       " Row(Job Title='Consultant - Analytics Consulting'),\n",
       " Row(Job Title='Senior Scientist (Neuroscience)'),\n",
       " Row(Job Title='Medical Laboratory Scientist'),\n",
       " Row(Job Title='R&D Specialist/ Food Scientist'),\n",
       " Row(Job Title='Scientist, Bacteriology'),\n",
       " Row(Job Title='Clinical Laboratory Scientist'),\n",
       " Row(Job Title='Food Scientist - Developer'),\n",
       " Row(Job Title='Scientist, Molecular/Cellular Biologist'),\n",
       " Row(Job Title='Staff Scientist-Downstream Process Development'),\n",
       " Row(Job Title='MED TECH/LAB SCIENTIST- SOUTH COASTAL LAB'),\n",
       " Row(Job Title='Scientist - Analytical Services'),\n",
       " Row(Job Title='Senior Data Science Systems Engineer'),\n",
       " Row(Job Title='ENVIRONMENTAL ENGINEER/SCIENTIST'),\n",
       " Row(Job Title='Senior Scientist - Regulatory Submissions'),\n",
       " Row(Job Title='Scientist - Biomarker and Flow Cytometry'),\n",
       " Row(Job Title='Associate Scientist, LC/MS Biologics'),\n",
       " Row(Job Title='Sr. Scientist Method Development'),\n",
       " Row(Job Title='Research Scientist, Immunology - Cancer Biology'),\n",
       " Row(Job Title='Project Scientist - Auton Lab, Robotics Institute'),\n",
       " Row(Job Title='Enterprise Architect, Data'),\n",
       " Row(Job Title='Data Modeler - Data Solutions Engineer'),\n",
       " Row(Job Title='Associate Environmental Scientist - Wildlife Biologist'),\n",
       " Row(Job Title='Associate, Data Science, Internal Audit'),\n",
       " Row(Job Title='Salesforce Analytics Consultant'),\n",
       " Row(Job Title='Technology-Minded, Data Professional Opportunities'),\n",
       " Row(Job Title='Scientist, Pharmacometrics'),\n",
       " Row(Job Title='Staff Scientist- Upstream PD'),\n",
       " Row(Job Title='Scientist Manufacturing Pharma - Kentucky BioProcessing'),\n",
       " Row(Job Title='Product Engineer – Spatial Data Science and Statistical Analysis'),\n",
       " Row(Job Title='Senior Scientist, Cell Pharmacology/Assay Development'),\n",
       " Row(Job Title='Medical Lab Scientist - MLT'),\n",
       " Row(Job Title='RESEARCH COMPUTER SCIENTIST - RESEARCH ENGINEER - SR. COMPUTER SCIENTIST - SOFTWARE DEVELOPMENT'),\n",
       " Row(Job Title='Senior Scientist - Toxicologist - Product Integrity (Stewardship)'),\n",
       " Row(Job Title='Senior Research Analytical Scientist-Non-Targeted Analysis'),\n",
       " Row(Job Title='Senior Scientist - Biostatistician'),\n",
       " Row(Job Title='Product Engineer – Data Science'),\n",
       " Row(Job Title='Principal Scientist, Chemistry & Immunology'),\n",
       " Row(Job Title='Scientist/Senior Scientist, Autoimmune'),\n",
       " Row(Job Title='Software Engineer - Data Visualization'),\n",
       " Row(Job Title='Principal Scientist, Hematology'),\n",
       " Row(Job Title='Scientist Manufacturing - Kentucky BioProcessing'),\n",
       " Row(Job Title='Consultant - Analytics Consulting'),\n",
       " Row(Job Title='Senior Scientist (Neuroscience)'),\n",
       " Row(Job Title='Medical Laboratory Scientist'),\n",
       " Row(Job Title='R&D Specialist/ Food Scientist'),\n",
       " Row(Job Title='Associate Principal Scientist, Pharmacogenomics'),\n",
       " Row(Job Title='Scientist, Bacteriology'),\n",
       " Row(Job Title='Clinical Laboratory Scientist'),\n",
       " Row(Job Title='Scientist, Immuno-Oncology'),\n",
       " Row(Job Title='Data Science Engineer - Mobile'),\n",
       " Row(Job Title='Food Scientist - Developer'),\n",
       " Row(Job Title='Sr Expert Data Science, Advanced Visual Analytics (Associate level)'),\n",
       " Row(Job Title='Scientist, Molecular/Cellular Biologist'),\n",
       " Row(Job Title='Staff Scientist-Downstream Process Development'),\n",
       " Row(Job Title='MED TECH/LAB SCIENTIST- SOUTH COASTAL LAB'),\n",
       " Row(Job Title='Scientist - Analytical Services'),\n",
       " Row(Job Title='Senior Data Science Systems Engineer'),\n",
       " Row(Job Title='ENVIRONMENTAL ENGINEER/SCIENTIST'),\n",
       " Row(Job Title='Senior Scientist - Regulatory Submissions'),\n",
       " Row(Job Title='Scientist - Biomarker and Flow Cytometry'),\n",
       " Row(Job Title='Associate Scientist, LC/MS Biologics'),\n",
       " Row(Job Title='Sr. Scientist Method Development'),\n",
       " Row(Job Title='Research Scientist, Immunology - Cancer Biology'),\n",
       " Row(Job Title='Principal, Data Science - Advanced Analytics'),\n",
       " Row(Job Title='Sr Scientist, Immuno-Oncology - Oncology'),\n",
       " Row(Job Title='Project Scientist - Auton Lab, Robotics Institute'),\n",
       " Row(Job Title='Research Scientist – Security and Privacy'),\n",
       " Row(Job Title='Enterprise Architect, Data'),\n",
       " Row(Job Title='Data Modeler (Analytical Systems)'),\n",
       " Row(Job Title='Data Modeler - Data Solutions Engineer'),\n",
       " Row(Job Title='Associate Environmental Scientist - Wildlife Biologist'),\n",
       " Row(Job Title='Associate, Data Science, Internal Audit'),\n",
       " Row(Job Title='Technology-Minded, Data Professional Opportunities'),\n",
       " Row(Job Title='Salesforce Analytics Consultant'),\n",
       " Row(Job Title='Staff Scientist- Upstream PD'),\n",
       " Row(Job Title='Scientist, Pharmacometrics'),\n",
       " Row(Job Title='Scientist Manufacturing Pharma - Kentucky BioProcessing'),\n",
       " Row(Job Title='Product Engineer – Spatial Data Science and Statistical Analysis'),\n",
       " Row(Job Title='Associate Research Scientist I (Protein Expression and Production)'),\n",
       " Row(Job Title='Senior Scientist, Cell Pharmacology/Assay Development'),\n",
       " Row(Job Title='Senior Formulations Scientist II'),\n",
       " Row(Job Title='Medical Lab Scientist - MLT'),\n",
       " Row(Job Title='RESEARCH COMPUTER SCIENTIST - RESEARCH ENGINEER - SR. COMPUTER SCIENTIST - SOFTWARE DEVELOPMENT'),\n",
       " Row(Job Title='Senior Scientist - Toxicologist - Product Integrity (Stewardship)'),\n",
       " Row(Job Title='Senior Research Analytical Scientist-Non-Targeted Analysis'),\n",
       " Row(Job Title='Research Scientist or Senior Research Scientist - Computer Vision'),\n",
       " Row(Job Title='Senior Scientist - Biostatistician'),\n",
       " Row(Job Title='Research Scientist / Principal Research Scientist - Multiphysical Systems'),\n",
       " Row(Job Title='Principal Research Scientist/Team Lead, Medicinal Chemistry - Oncology'),\n",
       " Row(Job Title='Senior Engineer, Data Management Engineering'),\n",
       " Row(Job Title='Quality Control Scientist III- Analytical Development'),\n",
       " Row(Job Title='Clinical Scientist, Clinical Development'),\n",
       " Row(Job Title='Software Engineer Staff Scientist: Human Language Technologies'),\n",
       " Row(Job Title='Consultant - Analytics Consulting'),\n",
       " Row(Job Title='Scientist - CVRM Metabolism - in vivo pharmacology'),\n",
       " Row(Job Title='Senior Scientist (Neuroscience)'),\n",
       " Row(Job Title='Medical Laboratory Scientist'),\n",
       " Row(Job Title='R&D Specialist/ Food Scientist'),\n",
       " Row(Job Title='Associate Principal Scientist, Pharmacogenomics'),\n",
       " Row(Job Title='Scientist, Bacteriology'),\n",
       " Row(Job Title='Clinical Laboratory Scientist'),\n",
       " Row(Job Title='Scientist, Immuno-Oncology'),\n",
       " Row(Job Title='Data Architect / Data Modeler'),\n",
       " Row(Job Title='Data Science Engineer - Mobile'),\n",
       " Row(Job Title='Food Scientist - Developer'),\n",
       " Row(Job Title='Sr Expert Data Science, Advanced Visual Analytics (Associate level)'),\n",
       " Row(Job Title='MED TECH/LAB SCIENTIST- SOUTH COASTAL LAB'),\n",
       " Row(Job Title='Scientist, Molecular/Cellular Biologist'),\n",
       " Row(Job Title='Staff Scientist-Downstream Process Development'),\n",
       " Row(Job Title='Scientist - Analytical Services'),\n",
       " Row(Job Title='Associate Scientist / Sr. Associate Scientist, Antibody Discovery'),\n",
       " Row(Job Title='Senior Data Science Systems Engineer'),\n",
       " Row(Job Title='ENVIRONMENTAL ENGINEER/SCIENTIST'),\n",
       " Row(Job Title='Senior Scientist - Regulatory Submissions'),\n",
       " Row(Job Title='Scientist - Biomarker and Flow Cytometry'),\n",
       " Row(Job Title='Sr. Scientist Method Development'),\n",
       " Row(Job Title='Associate Scientist, LC/MS Biologics'),\n",
       " Row(Job Title='Research Scientist, Immunology - Cancer Biology'),\n",
       " Row(Job Title='Principal, Data Science - Advanced Analytics'),\n",
       " Row(Job Title='Sr Scientist, Immuno-Oncology - Oncology'),\n",
       " Row(Job Title='Project Scientist - Auton Lab, Robotics Institute'),\n",
       " Row(Job Title='Research Scientist – Security and Privacy')]"
      ]
     },
     "execution_count": 165,
     "metadata": {},
     "output_type": "execute_result"
    }
   ],
   "source": [
    "df_new = df.filter(df['job_simp'] == 'na')\n",
    "df_new.select(['Job Title']).collect()"
   ]
  },
  {
   "cell_type": "code",
   "execution_count": 98,
   "id": "f404e532",
   "metadata": {},
   "outputs": [
    {
     "name": "stdout",
     "output_type": "stream",
     "text": [
      "+---+--------------------+--------------------+------+--------------------+---------------+--------------+--------------------+-------+------------------+--------------------+--------------------+--------------------+--------------------+------+-----------------+----------+----------+----------+--------------------+---------+---------+----+-----+---+-----+--------------+---------+--------+--------+\n",
      "| ID|           Job Title|     Salary Estimate|Rating|        Company Name|       Location|  Headquarters|                Size|Founded| Type of ownership|            Industry|              Sector|             Revenue|         Competitors|hourly|employer_provided|min_salary|max_salary|avg_salary|         company_txt|job_state|python_yn|R_yn|spark|aws|excel|      job_simp|seniority|desc_len|num_comp|\n",
      "+---+--------------------+--------------------+------+--------------------+---------------+--------------+--------------------+-------+------------------+--------------------+--------------------+--------------------+--------------------+------+-----------------+----------+----------+----------+--------------------+---------+---------+----+-----+---+-----+--------------+---------+--------+--------+\n",
      "|  0|      Data Scientist|$53K-$91K (Glassd...|   3.8|Tecolote Research...|Albuquerque, NM|    Goleta, CA|501 to 1000 emplo...|   1973| Company - Private| Aerospace & Defense| Aerospace & Defense|$50 to $100 milli...|                  -1|     0|                0|        53|        91|      72.0|   Tecolote Research|       NM|        1|   0|    0|  0|    1|data scientist|       na|    2536|       0|\n",
      "|  1|Healthcare Data S...|$63K-$112K (Glass...|   3.4|University of Mar...|  Linthicum, MD| Baltimore, MD|    10000+ employees|   1984|Other Organization|Health Care Servi...|         Health Care|$2 to $5 billion ...|                  -1|     0|                0|        63|       112|      87.5|University of Mar...|       MD|        1|   0|    0|  0|    0|data scientist|       na|    4783|       0|\n",
      "|  2|      Data Scientist|$80K-$90K (Glassd...|   4.8|        KnowBe4\\n4.8| Clearwater, FL|Clearwater, FL|501 to 1000 emplo...|   2010| Company - Private|   Security Services|   Business Services|$100 to $500 mill...|                  -1|     0|                0|        80|        90|      85.0|             KnowBe4|       FL|        1|   0|    1|  0|    1|data scientist|       na|    3461|       0|\n",
      "|  3|      Data Scientist|$56K-$97K (Glassd...|   3.8|           PNNL\\n3.8|   Richland, WA|  Richland, WA|1001 to 5000 empl...|   1965|        Government|              Energy|Oil, Gas, Energy ...|$500 million to $...|Oak Ridge Nationa...|     0|                0|        56|        97|      76.5|                PNNL|       WA|        1|   0|    0|  0|    0|data scientist|       na|    3883|       3|\n",
      "|  4|      Data Scientist|$86K-$143K (Glass...|   2.9|Affinity Solution...|   New York, NY|  New York, NY| 51 to 200 employees|   1998| Company - Private|Advertising & Mar...|   Business Services|Unknown / Non-App...|Commerce Signals,...|     0|                0|        86|       143|     114.5|  Affinity Solutions|       NY|        1|   0|    0|  0|    1|data scientist|       na|    2728|       3|\n",
      "|  5|      Data Scientist|$71K-$119K (Glass...|   3.4|       CyrusOne\\n3.4|     Dallas, TX|    Dallas, TX|201 to 500 employees|   2000|  Company - Public|         Real Estate|         Real Estate|$1 to $2 billion ...|Digital Realty, C...|     0|                0|        71|       119|      95.0|            CyrusOne|       TX|        1|   0|    0|  1|    1|data scientist|       na|    3747|       3|\n",
      "|  6|      Data Scientist|$54K-$93K (Glassd...|   4.1|ClearOne Advantag...|  Baltimore, MD| Baltimore, MD|501 to 1000 emplo...|   2008| Company - Private|Banks & Credit Un...|             Finance|Unknown / Non-App...|                  -1|     0|                0|        54|        93|      73.5|  ClearOne Advantage|       MD|        0|   0|    0|  0|    1|data scientist|       na|    1786|       0|\n",
      "|  7|      Data Scientist|$86K-$142K (Glass...|   3.8|     Logic20/20\\n3.8|   San Jose, CA|   Seattle, WA|201 to 500 employees|   2005| Company - Private|          Consulting|   Business Services|$25 to $50 millio...|                  -1|     0|                0|        86|       142|     114.0|          Logic20/20|       CA|        1|   0|    1|  1|    1|data scientist|       na|    3804|       0|\n",
      "|  8|  Research Scientist|$38K-$84K (Glassd...|   3.3|Rochester Regiona...|  Rochester, NY| Rochester, NY|    10000+ employees|   2014|          Hospital|Health Care Servi...|         Health Care|$500 million to $...|                  -1|     0|                0|        38|        84|      61.0|Rochester Regiona...|       NY|        0|   0|    0|  0|    0|            na|       na|    1538|       0|\n",
      "|  9|      Data Scientist|$120K-$160K (Glas...|   4.6|       <intent>\\n4.6|   New York, NY|  New York, NY| 51 to 200 employees|   2009| Company - Private|            Internet|Information Techn...|$100 to $500 mill...|Clicktripz, Smart...|     0|                0|       120|       160|     140.0|            <intent>|       NY|        1|   0|    1|  0|    0|data scientist|       na|    4574|       2|\n",
      "+---+--------------------+--------------------+------+--------------------+---------------+--------------+--------------------+-------+------------------+--------------------+--------------------+--------------------+--------------------+------+-----------------+----------+----------+----------+--------------------+---------+---------+----+-----+---+-----+--------------+---------+--------+--------+\n",
      "only showing top 10 rows\n",
      "\n"
     ]
    }
   ],
   "source": [
    "df.show(10)"
   ]
  },
  {
   "cell_type": "code",
   "execution_count": 62,
   "id": "08463fdf",
   "metadata": {},
   "outputs": [
    {
     "name": "stderr",
     "output_type": "stream",
     "text": [
      "24/10/17 11:42:15 WARN CSVHeaderChecker: CSV header does not conform to the schema.\n",
      " Header: , Job Title, Salary Estimate, Job Description, Rating, Company Name, Location, Headquarters, Size, Founded, Type of ownership, Industry, Sector, Revenue, Competitors, hourly, employer_provided, min_salary, max_salary, avg_salary, company_txt, job_state, same_state, age, python_yn, R_yn, spark, aws, excel, job_simp, seniority, desc_len, num_comp\n",
      " Schema: _c0, Job Title, Salary Estimate, Job Description, Rating, Company Name, Location, Headquarters, Size, Founded, Type of ownership, Industry, Sector, Revenue, Competitors, hourly, employer_provided, min_salary, max_salary, avg_salary, company_txt, job_state, same_state, age, python_yn, R_yn, spark, aws, excel, job_simp, seniority, desc_len, num_comp\n",
      "Expected: _c0 but found: \n",
      "CSV file: file:///Users/ericbanzuzi/uni/KTH/Data%20Intensive%20Computing/ID2221-project/dataset/eda_data.csv\n"
     ]
    },
    {
     "data": {
      "text/plain": [
       "[Row(Job Title=None),\n",
       " Row(Job Title=None),\n",
       " Row(Job Title=None),\n",
       " Row(Job Title=None),\n",
       " Row(Job Title=' drinks (three ways to brew your favorite cup of coffee)'),\n",
       " Row(Job Title=None),\n",
       " Row(Job Title=' dental and vision insurance plans'),\n",
       " Row(Job Title=None),\n",
       " Row(Job Title=None),\n",
       " Row(Job Title=None),\n",
       " Row(Job Title=None),\n",
       " Row(Job Title=' CA. It is not a remote role.\"'),\n",
       " Row(Job Title='Data Science Project Manager'),\n",
       " Row(Job Title='Data Engineer'),\n",
       " Row(Job Title='Principal, Data Science - Advanced Analytics'),\n",
       " Row(Job Title='Sr Scientist, Immuno-Oncology - Oncology'),\n",
       " Row(Job Title='Senior Data Engineer'),\n",
       " Row(Job Title='Project Scientist - Auton Lab, Robotics Institute'),\n",
       " Row(Job Title='Data Science Manager'),\n",
       " Row(Job Title='Research Scientist – Security and Privacy')]"
      ]
     },
     "execution_count": 62,
     "metadata": {},
     "output_type": "execute_result"
    }
   ],
   "source": [
    "df.select(['Job Title']).tail(20)"
   ]
  },
  {
   "cell_type": "code",
   "execution_count": 35,
   "id": "fa136d96",
   "metadata": {},
   "outputs": [
    {
     "data": {
      "text/html": [
       "<div>\n",
       "<style scoped>\n",
       "    .dataframe tbody tr th:only-of-type {\n",
       "        vertical-align: middle;\n",
       "    }\n",
       "\n",
       "    .dataframe tbody tr th {\n",
       "        vertical-align: top;\n",
       "    }\n",
       "\n",
       "    .dataframe thead th {\n",
       "        text-align: right;\n",
       "    }\n",
       "</style>\n",
       "<table border=\"1\" class=\"dataframe\">\n",
       "  <thead>\n",
       "    <tr style=\"text-align: right;\">\n",
       "      <th></th>\n",
       "      <th>Unnamed: 0</th>\n",
       "      <th>Job Title</th>\n",
       "      <th>Salary Estimate</th>\n",
       "      <th>Job Description</th>\n",
       "      <th>Rating</th>\n",
       "      <th>Company Name</th>\n",
       "      <th>Location</th>\n",
       "      <th>Headquarters</th>\n",
       "      <th>Size</th>\n",
       "      <th>Founded</th>\n",
       "      <th>...</th>\n",
       "      <th>age</th>\n",
       "      <th>python_yn</th>\n",
       "      <th>R_yn</th>\n",
       "      <th>spark</th>\n",
       "      <th>aws</th>\n",
       "      <th>excel</th>\n",
       "      <th>job_simp</th>\n",
       "      <th>seniority</th>\n",
       "      <th>desc_len</th>\n",
       "      <th>num_comp</th>\n",
       "    </tr>\n",
       "  </thead>\n",
       "  <tbody>\n",
       "    <tr>\n",
       "      <th>0</th>\n",
       "      <td>0</td>\n",
       "      <td>Data Scientist</td>\n",
       "      <td>$53K-$91K (Glassdoor est.)</td>\n",
       "      <td>Data Scientist\\nLocation: Albuquerque, NM\\nEdu...</td>\n",
       "      <td>3.8</td>\n",
       "      <td>Tecolote Research\\n3.8</td>\n",
       "      <td>Albuquerque, NM</td>\n",
       "      <td>Goleta, CA</td>\n",
       "      <td>501 to 1000 employees</td>\n",
       "      <td>1973</td>\n",
       "      <td>...</td>\n",
       "      <td>47</td>\n",
       "      <td>1</td>\n",
       "      <td>0</td>\n",
       "      <td>0</td>\n",
       "      <td>0</td>\n",
       "      <td>1</td>\n",
       "      <td>data scientist</td>\n",
       "      <td>na</td>\n",
       "      <td>2536</td>\n",
       "      <td>0</td>\n",
       "    </tr>\n",
       "    <tr>\n",
       "      <th>1</th>\n",
       "      <td>1</td>\n",
       "      <td>Healthcare Data Scientist</td>\n",
       "      <td>$63K-$112K (Glassdoor est.)</td>\n",
       "      <td>What You Will Do:\\n\\nI. General Summary\\n\\nThe...</td>\n",
       "      <td>3.4</td>\n",
       "      <td>University of Maryland Medical System\\n3.4</td>\n",
       "      <td>Linthicum, MD</td>\n",
       "      <td>Baltimore, MD</td>\n",
       "      <td>10000+ employees</td>\n",
       "      <td>1984</td>\n",
       "      <td>...</td>\n",
       "      <td>36</td>\n",
       "      <td>1</td>\n",
       "      <td>0</td>\n",
       "      <td>0</td>\n",
       "      <td>0</td>\n",
       "      <td>0</td>\n",
       "      <td>data scientist</td>\n",
       "      <td>na</td>\n",
       "      <td>4783</td>\n",
       "      <td>0</td>\n",
       "    </tr>\n",
       "    <tr>\n",
       "      <th>2</th>\n",
       "      <td>2</td>\n",
       "      <td>Data Scientist</td>\n",
       "      <td>$80K-$90K (Glassdoor est.)</td>\n",
       "      <td>KnowBe4, Inc. is a high growth information sec...</td>\n",
       "      <td>4.8</td>\n",
       "      <td>KnowBe4\\n4.8</td>\n",
       "      <td>Clearwater, FL</td>\n",
       "      <td>Clearwater, FL</td>\n",
       "      <td>501 to 1000 employees</td>\n",
       "      <td>2010</td>\n",
       "      <td>...</td>\n",
       "      <td>10</td>\n",
       "      <td>1</td>\n",
       "      <td>0</td>\n",
       "      <td>1</td>\n",
       "      <td>0</td>\n",
       "      <td>1</td>\n",
       "      <td>data scientist</td>\n",
       "      <td>na</td>\n",
       "      <td>3461</td>\n",
       "      <td>0</td>\n",
       "    </tr>\n",
       "    <tr>\n",
       "      <th>3</th>\n",
       "      <td>3</td>\n",
       "      <td>Data Scientist</td>\n",
       "      <td>$56K-$97K (Glassdoor est.)</td>\n",
       "      <td>*Organization and Job ID**\\nJob ID: 310709\\n\\n...</td>\n",
       "      <td>3.8</td>\n",
       "      <td>PNNL\\n3.8</td>\n",
       "      <td>Richland, WA</td>\n",
       "      <td>Richland, WA</td>\n",
       "      <td>1001 to 5000 employees</td>\n",
       "      <td>1965</td>\n",
       "      <td>...</td>\n",
       "      <td>55</td>\n",
       "      <td>1</td>\n",
       "      <td>0</td>\n",
       "      <td>0</td>\n",
       "      <td>0</td>\n",
       "      <td>0</td>\n",
       "      <td>data scientist</td>\n",
       "      <td>na</td>\n",
       "      <td>3883</td>\n",
       "      <td>3</td>\n",
       "    </tr>\n",
       "    <tr>\n",
       "      <th>4</th>\n",
       "      <td>4</td>\n",
       "      <td>Data Scientist</td>\n",
       "      <td>$86K-$143K (Glassdoor est.)</td>\n",
       "      <td>Data Scientist\\nAffinity Solutions / Marketing...</td>\n",
       "      <td>2.9</td>\n",
       "      <td>Affinity Solutions\\n2.9</td>\n",
       "      <td>New York, NY</td>\n",
       "      <td>New York, NY</td>\n",
       "      <td>51 to 200 employees</td>\n",
       "      <td>1998</td>\n",
       "      <td>...</td>\n",
       "      <td>22</td>\n",
       "      <td>1</td>\n",
       "      <td>0</td>\n",
       "      <td>0</td>\n",
       "      <td>0</td>\n",
       "      <td>1</td>\n",
       "      <td>data scientist</td>\n",
       "      <td>na</td>\n",
       "      <td>2728</td>\n",
       "      <td>3</td>\n",
       "    </tr>\n",
       "  </tbody>\n",
       "</table>\n",
       "<p>5 rows × 33 columns</p>\n",
       "</div>"
      ],
      "text/plain": [
       "   Unnamed: 0                  Job Title              Salary Estimate  \\\n",
       "0           0             Data Scientist   $53K-$91K (Glassdoor est.)   \n",
       "1           1  Healthcare Data Scientist  $63K-$112K (Glassdoor est.)   \n",
       "2           2             Data Scientist   $80K-$90K (Glassdoor est.)   \n",
       "3           3             Data Scientist   $56K-$97K (Glassdoor est.)   \n",
       "4           4             Data Scientist  $86K-$143K (Glassdoor est.)   \n",
       "\n",
       "                                     Job Description  Rating  \\\n",
       "0  Data Scientist\\nLocation: Albuquerque, NM\\nEdu...     3.8   \n",
       "1  What You Will Do:\\n\\nI. General Summary\\n\\nThe...     3.4   \n",
       "2  KnowBe4, Inc. is a high growth information sec...     4.8   \n",
       "3  *Organization and Job ID**\\nJob ID: 310709\\n\\n...     3.8   \n",
       "4  Data Scientist\\nAffinity Solutions / Marketing...     2.9   \n",
       "\n",
       "                                 Company Name         Location  \\\n",
       "0                      Tecolote Research\\n3.8  Albuquerque, NM   \n",
       "1  University of Maryland Medical System\\n3.4    Linthicum, MD   \n",
       "2                                KnowBe4\\n4.8   Clearwater, FL   \n",
       "3                                   PNNL\\n3.8     Richland, WA   \n",
       "4                     Affinity Solutions\\n2.9     New York, NY   \n",
       "\n",
       "     Headquarters                    Size  Founded  ... age python_yn R_yn  \\\n",
       "0      Goleta, CA   501 to 1000 employees     1973  ...  47         1    0   \n",
       "1   Baltimore, MD        10000+ employees     1984  ...  36         1    0   \n",
       "2  Clearwater, FL   501 to 1000 employees     2010  ...  10         1    0   \n",
       "3    Richland, WA  1001 to 5000 employees     1965  ...  55         1    0   \n",
       "4    New York, NY     51 to 200 employees     1998  ...  22         1    0   \n",
       "\n",
       "  spark aws  excel        job_simp  seniority  desc_len  num_comp  \n",
       "0     0   0      1  data scientist         na      2536         0  \n",
       "1     0   0      0  data scientist         na      4783         0  \n",
       "2     1   0      1  data scientist         na      3461         0  \n",
       "3     0   0      0  data scientist         na      3883         3  \n",
       "4     0   0      1  data scientist         na      2728         3  \n",
       "\n",
       "[5 rows x 33 columns]"
      ]
     },
     "execution_count": 35,
     "metadata": {},
     "output_type": "execute_result"
    }
   ],
   "source": [
    "df = pd.read_csv('./dataset/eda_data.csv')\n",
    "df.head(5)"
   ]
  },
  {
   "cell_type": "code",
   "execution_count": 14,
   "id": "e795f3c1",
   "metadata": {},
   "outputs": [
    {
     "data": {
      "text/plain": [
       "742"
      ]
     },
     "execution_count": 14,
     "metadata": {},
     "output_type": "execute_result"
    }
   ],
   "source": [
    "df.shape[0]"
   ]
  },
  {
   "cell_type": "code",
   "execution_count": 4,
   "id": "9fcd0622",
   "metadata": {},
   "outputs": [
    {
     "name": "stderr",
     "output_type": "stream",
     "text": [
      "                                                                                \r"
     ]
    },
    {
     "data": {
      "text/plain": [
       "25508"
      ]
     },
     "execution_count": 4,
     "metadata": {},
     "output_type": "execute_result"
    }
   ],
   "source": [
    "df.count()"
   ]
  },
  {
   "cell_type": "code",
   "execution_count": 45,
   "id": "79a95903",
   "metadata": {},
   "outputs": [
    {
     "name": "stdout",
     "output_type": "stream",
     "text": [
      "root\n",
      " |-- Unnamed: 0: string (nullable = true)\n",
      " |-- Job Title: string (nullable = true)\n",
      " |-- Salary Estimate: string (nullable = true)\n",
      " |-- Job Description: string (nullable = true)\n",
      " |-- Rating: string (nullable = true)\n",
      " |-- Company Name: string (nullable = true)\n",
      " |-- Location: string (nullable = true)\n",
      " |-- Headquarters: string (nullable = true)\n",
      " |-- Size: string (nullable = true)\n",
      " |-- Founded: string (nullable = true)\n",
      " |-- Type of ownership: string (nullable = true)\n",
      " |-- Industry: string (nullable = true)\n",
      " |-- Sector: string (nullable = true)\n",
      " |-- Revenue: string (nullable = true)\n",
      " |-- Competitors: string (nullable = true)\n",
      " |-- hourly: string (nullable = true)\n",
      " |-- employer_provided: string (nullable = true)\n",
      " |-- min_salary: string (nullable = true)\n",
      " |-- max_salary: string (nullable = true)\n",
      " |-- avg_salary: string (nullable = true)\n",
      " |-- company_txt: string (nullable = true)\n",
      " |-- job_state: string (nullable = true)\n",
      " |-- same_state: string (nullable = true)\n",
      " |-- age: string (nullable = true)\n",
      " |-- python_yn: string (nullable = true)\n",
      " |-- R_yn: string (nullable = true)\n",
      " |-- spark: string (nullable = true)\n",
      " |-- aws: string (nullable = true)\n",
      " |-- excel: string (nullable = true)\n",
      " |-- job_simp: string (nullable = true)\n",
      " |-- seniority: string (nullable = true)\n",
      " |-- desc_len: string (nullable = true)\n",
      " |-- num_comp: string (nullable = true)\n",
      "\n"
     ]
    }
   ],
   "source": [
    "### Check the schema\n",
    "df.printSchema()"
   ]
  },
  {
   "cell_type": "code",
   "execution_count": 6,
   "id": "19da5885",
   "metadata": {},
   "outputs": [
    {
     "data": {
      "text/plain": [
       "pyspark.sql.dataframe.DataFrame"
      ]
     },
     "execution_count": 6,
     "metadata": {},
     "output_type": "execute_result"
    }
   ],
   "source": [
    "type(df)"
   ]
  },
  {
   "cell_type": "code",
   "execution_count": 7,
   "id": "e4a3c8eb",
   "metadata": {},
   "outputs": [
    {
     "data": {
      "text/plain": [
       "[Row(Job Title='Data Scientist', Salary Estimate='$53K-$91K (Glassdoor est.)', Job Description='Data Scientist', Rating=None, Company Name=None, Location=None, Headquarters=None, Size=None, Founded=None, Type of ownership=None, Industry=None, Sector=None, Revenue=None, Competitors=None, hourly=None, employer_provided=None, min_salary=None, max_salary=None, avg_salary=None, company_txt=None, job_state=None, same_state=None, age=None, python_yn=None, R_yn=None, spark=None, aws=None, excel=None),\n",
       " Row(Job Title='Location: Albuquerque', Salary Estimate=' NM', Job Description=None, Rating=None, Company Name=None, Location=None, Headquarters=None, Size=None, Founded=None, Type of ownership=None, Industry=None, Sector=None, Revenue=None, Competitors=None, hourly=None, employer_provided=None, min_salary=None, max_salary=None, avg_salary=None, company_txt=None, job_state=None, same_state=None, age=None, python_yn=None, R_yn=None, spark=None, aws=None, excel=None),\n",
       " Row(Job Title='Education Required: Bachelor’s degree required', Salary Estimate=' preferably in math', Job Description=' engineering', Rating=' business', Company Name=' or the sciences.', Location=None, Headquarters=None, Size=None, Founded=None, Type of ownership=None, Industry=None, Sector=None, Revenue=None, Competitors=None, hourly=None, employer_provided=None, min_salary=None, max_salary=None, avg_salary=None, company_txt=None, job_state=None, same_state=None, age=None, python_yn=None, R_yn=None, spark=None, aws=None, excel=None)]"
      ]
     },
     "execution_count": 7,
     "metadata": {},
     "output_type": "execute_result"
    }
   ],
   "source": [
    "df.head(3)"
   ]
  },
  {
   "cell_type": "code",
   "execution_count": 8,
   "id": "c513816d",
   "metadata": {},
   "outputs": [
    {
     "name": "stdout",
     "output_type": "stream",
     "text": [
      "+--------------------+--------------------+\n",
      "|           Job Title|              Rating|\n",
      "+--------------------+--------------------+\n",
      "|      Data Scientist|                NULL|\n",
      "|Location: Albuque...|                NULL|\n",
      "|Education Require...|            business|\n",
      "|    Skills Required:|                NULL|\n",
      "|Bachelor’s Degree...|       data analysis|\n",
      "|Applicant should ...|              MATLAB|\n",
      "|Excellent verbal ...|                NULL|\n",
      "|Applicant must be...|                NULL|\n",
      "|U.S. citizenship ...|                NULL|\n",
      "|Responsibilities:...|              models|\n",
      "|           Benefits:|                NULL|\n",
      "|We offer competit...|                NULL|\n",
      "|Comprehensive health| long and short t...|\n",
      "|100% Company fund...|                NULL|\n",
      "|   Generous vacation|                NULL|\n",
      "|  Tuition assistance|                NULL|\n",
      "|Benefits are prov...|                NULL|\n",
      "|Tecolote Research...|                 3.8|\n",
      "|                3.8\"|501 to 1000 emplo...|\n",
      "| , NM,0,47,1,0,0,0,1|                NULL|\n",
      "+--------------------+--------------------+\n",
      "only showing top 20 rows\n",
      "\n"
     ]
    }
   ],
   "source": [
    "df.select(['Job Title','Rating']).show()"
   ]
  },
  {
   "cell_type": "code",
   "execution_count": 9,
   "id": "c3d42722",
   "metadata": {},
   "outputs": [
    {
     "data": {
      "text/plain": [
       "[('Job Title', 'string'),\n",
       " ('Salary Estimate', 'string'),\n",
       " ('Job Description', 'string'),\n",
       " ('Rating', 'string'),\n",
       " ('Company Name', 'string'),\n",
       " ('Location', 'string'),\n",
       " ('Headquarters', 'string'),\n",
       " ('Size', 'string'),\n",
       " ('Founded', 'string'),\n",
       " ('Type of ownership', 'string'),\n",
       " ('Industry', 'string'),\n",
       " ('Sector', 'string'),\n",
       " ('Revenue', 'string'),\n",
       " ('Competitors', 'string'),\n",
       " ('hourly', 'string'),\n",
       " ('employer_provided', 'string'),\n",
       " ('min_salary', 'string'),\n",
       " ('max_salary', 'string'),\n",
       " ('avg_salary', 'string'),\n",
       " ('company_txt', 'string'),\n",
       " ('job_state', 'string'),\n",
       " ('same_state', 'string'),\n",
       " ('age', 'string'),\n",
       " ('python_yn', 'string'),\n",
       " ('R_yn', 'string'),\n",
       " ('spark', 'string'),\n",
       " ('aws', 'string'),\n",
       " ('excel', 'string')]"
      ]
     },
     "execution_count": 9,
     "metadata": {},
     "output_type": "execute_result"
    }
   ],
   "source": [
    "df.dtypes"
   ]
  },
  {
   "cell_type": "code",
   "execution_count": 10,
   "id": "fa74b18e",
   "metadata": {},
   "outputs": [
    {
     "name": "stderr",
     "output_type": "stream",
     "text": [
      "[Stage 7:>                                                          (0 + 1) / 1]\r"
     ]
    },
    {
     "name": "stdout",
     "output_type": "stream",
     "text": [
      "+-------+--------------------+--------------------+--------------------+--------------------+--------------------+--------------------+-----------------+------------------+--------------------+--------------------+--------------------+--------------------+--------------------+--------------------+--------------------+--------------------+--------------------+--------------------+-----------------+--------------------+---------+------------------+--------------------+-------------------+-------------------+--------------------+--------------------+-------------------+\n",
      "|summary|           Job Title|     Salary Estimate|     Job Description|              Rating|        Company Name|            Location|     Headquarters|              Size|             Founded|   Type of ownership|            Industry|              Sector|             Revenue|         Competitors|              hourly|   employer_provided|          min_salary|          max_salary|       avg_salary|         company_txt|job_state|        same_state|                 age|          python_yn|               R_yn|               spark|                 aws|              excel|\n",
      "+-------+--------------------+--------------------+--------------------+--------------------+--------------------+--------------------+-----------------+------------------+--------------------+--------------------+--------------------+--------------------+--------------------+--------------------+--------------------+--------------------+--------------------+--------------------+-----------------+--------------------+---------+------------------+--------------------+-------------------+-------------------+--------------------+--------------------+-------------------+\n",
      "|  count|               25507|               10805|                8102|                4638|                3294|                2466|             1918|              1633|                1405|                1249|                1131|                1061|                 992|                 930|                 895|                 874|                 110|                  76|               71|                  63|       51|                42|                  41|                 39|                 33|                  31|                  21|                 14|\n",
      "|   mean|  21041.962962962964|   61.00671834625333|  123.98571428571427|  1813.0499999999997|   1785.072047244095|    41.2818181818182|178.0695652173913| 2.788888888888889|  2.9333333333333336| -0.9520518358531319|  0.0821236559139785| 0.07595772787318363|   71.47723035952065|  124.28458445040214|   98.39453333333334|  41.336363636363636|   60.18666666666666|   75.33000000000001|            81.06|  44.199999999999996|      1.0|0.9750000000000001|  0.5846153846153845|0.20769230769230765|0.44166666666666665| 0.18181818181818182| 0.14285714285714285|0.16666666666666666|\n",
      "| stddev|   50435.28942690325|   326.2024528016523|  470.17593319877676|  10792.306144431019|   575.7746937326941|  177.05726444225579|580.2639183515647|1.7907897991040613|  1.7283903880007356| 0.46280611901825025|  0.4667868526920021|  0.5693475689729077|   32.94909367775586|   49.49683513333299|   40.81039599592259|    80.2953034590178|   82.30609130961491|   50.96190407222503|67.28260795579592|   58.65223453019174|      2.0|1.3739931378493646|  1.4842765655621335|  1.695317835717705| 0.9792931897624692| 0.40451991747794525| 0.37796447300922725|  0.408248290463863|\n",
      "|    min|        \"\"Education:|                #37)| \"\"Green Card Hol...| & reports labora...|      (Nasdaq: RUBY)| (b) in furtheran...|                 |            401(k)|                 ACL| 15 free therapy ...| 2018. For more i...|      AD&D insurance|         401(k) plan| Active Duty Wart...| Armed Forces Ser...| Business Process...|     Cloud Computing| \"\"protected stat...|               CA|                  CA|     HTML|               CSS|             Angular|              Kafka|                AWS|               Azure| GCP is preferred...|           analysts|\n",
      "|    max|Master’s degree ...|” we will continu...|” responsible for...|statistical analy...|e-IT Professional...|             Unknown|        Wholesale|       Vail Health| designed for rap...|eClinicalWorks, N...|             Vermeer|Unknown / Non-App...|University of Mar...|        Vionic Group|       Truckstop.com|           webfx.com|Works with engine...|Remedy BPCI Partn...|         TRANZACT|The Climate Corpo...|  Peraton|               2.9|Karyopharm Therap...|         Sumo Logic|     Pro-Sphere Tek|Excellent written...|Individually moti...|                  1|\n",
      "+-------+--------------------+--------------------+--------------------+--------------------+--------------------+--------------------+-----------------+------------------+--------------------+--------------------+--------------------+--------------------+--------------------+--------------------+--------------------+--------------------+--------------------+--------------------+-----------------+--------------------+---------+------------------+--------------------+-------------------+-------------------+--------------------+--------------------+-------------------+\n",
      "\n"
     ]
    },
    {
     "name": "stderr",
     "output_type": "stream",
     "text": [
      "                                                                                \r"
     ]
    }
   ],
   "source": [
    "df.describe().show()"
   ]
  },
  {
   "cell_type": "code",
   "execution_count": 36,
   "id": "6a8d7b54",
   "metadata": {},
   "outputs": [],
   "source": [
    "### Adding Columns in data frame\n",
    "df_pyspark=df_pyspark.withColumn('Experience After 2 year',df_pyspark['Experience']+2)"
   ]
  },
  {
   "cell_type": "code",
   "execution_count": 38,
   "id": "e9ff01ed",
   "metadata": {},
   "outputs": [
    {
     "name": "stdout",
     "output_type": "stream",
     "text": [
      "+---------+---+----------+-----------------------+\n",
      "|     Name|age|Experience|Experience After 2 year|\n",
      "+---------+---+----------+-----------------------+\n",
      "|    Krish| 31|        10|                     12|\n",
      "|Sudhanshu| 30|         8|                     10|\n",
      "|    Sunny| 29|         4|                      6|\n",
      "+---------+---+----------+-----------------------+\n",
      "\n"
     ]
    }
   ],
   "source": [
    "df_pyspark.show()"
   ]
  },
  {
   "cell_type": "code",
   "execution_count": 41,
   "id": "d98641db",
   "metadata": {},
   "outputs": [],
   "source": [
    "### Drop the columns\n",
    "df_pyspark=df_pyspark.drop('Experience After 2 year')"
   ]
  },
  {
   "cell_type": "code",
   "execution_count": 42,
   "id": "e0a2723f",
   "metadata": {},
   "outputs": [
    {
     "name": "stdout",
     "output_type": "stream",
     "text": [
      "+---------+---+----------+\n",
      "|     Name|age|Experience|\n",
      "+---------+---+----------+\n",
      "|    Krish| 31|        10|\n",
      "|Sudhanshu| 30|         8|\n",
      "|    Sunny| 29|         4|\n",
      "+---------+---+----------+\n",
      "\n"
     ]
    }
   ],
   "source": [
    "df_pyspark.show()"
   ]
  },
  {
   "cell_type": "code",
   "execution_count": 44,
   "id": "5432faa1",
   "metadata": {},
   "outputs": [
    {
     "name": "stdout",
     "output_type": "stream",
     "text": [
      "+---------+---+----------+\n",
      "| New Name|age|Experience|\n",
      "+---------+---+----------+\n",
      "|    Krish| 31|        10|\n",
      "|Sudhanshu| 30|         8|\n",
      "|    Sunny| 29|         4|\n",
      "+---------+---+----------+\n",
      "\n"
     ]
    }
   ],
   "source": [
    "### Rename the columns\n",
    "df_pyspark.withColumnRenamed('Name','New Name').show()"
   ]
  },
  {
   "cell_type": "code",
   "execution_count": null,
   "id": "2e5b7d72",
   "metadata": {},
   "outputs": [],
   "source": []
  },
  {
   "cell_type": "code",
   "execution_count": null,
   "id": "f211a741",
   "metadata": {},
   "outputs": [],
   "source": []
  },
  {
   "cell_type": "code",
   "execution_count": null,
   "id": "9a80b806",
   "metadata": {},
   "outputs": [],
   "source": []
  },
  {
   "cell_type": "code",
   "execution_count": null,
   "id": "e00f90e8",
   "metadata": {},
   "outputs": [],
   "source": []
  },
  {
   "cell_type": "code",
   "execution_count": null,
   "id": "7c6cb899",
   "metadata": {},
   "outputs": [],
   "source": []
  },
  {
   "cell_type": "code",
   "execution_count": null,
   "id": "2e0a8c75",
   "metadata": {},
   "outputs": [],
   "source": []
  }
 ],
 "metadata": {
  "kernelspec": {
   "display_name": "Python 3",
   "language": "python",
   "name": "python3"
  },
  "language_info": {
   "codemirror_mode": {
    "name": "ipython",
    "version": 3
   },
   "file_extension": ".py",
   "mimetype": "text/x-python",
   "name": "python",
   "nbconvert_exporter": "python",
   "pygments_lexer": "ipython3",
   "version": "3.11.10"
  }
 },
 "nbformat": 4,
 "nbformat_minor": 5
}
